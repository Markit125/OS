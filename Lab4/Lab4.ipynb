{
 "cells": [
  {
   "cell_type": "markdown",
   "id": "f548054a",
   "metadata": {},
   "source": [
    "## **Лабараторная работа номер №4**"
   ]
  },
  {
   "cell_type": "markdown",
   "id": "25ada9dc",
   "metadata": {},
   "source": [
    "Условие:\n",
    "\n",
    "> 1. реализовать мультинити (3    способами) и мультипроцессы (2    способами) выполнение фильтра, используя 1,2,3 варианты прерываний (лекции). \n",
    "\n",
    "> 2. Визуализировать распечаткой пары (время, номер- нити/процесса) \n",
    "\n",
    "> Фильтр, вставляющий символ ‘*’ после каждых 3-х символов входной строки."
   ]
  },
  {
   "cell_type": "markdown",
   "id": "1a8d126a",
   "metadata": {},
   "source": [
    "# fork()"
   ]
  },
  {
   "cell_type": "code",
   "execution_count": null,
   "id": "92a14cbf",
   "metadata": {},
   "outputs": [
    {
     "name": "stdout",
     "output_type": "stream",
     "text": [
      "Th*e e*ye *is *a r*egi*on *of *mos*tly* ca*lm *wea*the*r a*t t*he *cen*ter* of* a *tro*pic*al *cyc*lon*e.\n",
      "Process ID: 5917\n",
      "Child's process ID: 5929\n",
      "0.0015859603881835938\n",
      "Th*e e*ye *is *a r*egi*on *of *mos*tly* ca*lm *wea*the*r a*t t*he *cen*ter* of* a *tro*pic*al *cyc*lon*e.\n",
      "Process ID: 5929\n"
     ]
    },
    {
     "name": "stdout",
     "output_type": "stream",
     "text": [
      "0.004731893539428711\n"
     ]
    },
    {
     "ename": "",
     "evalue": "",
     "output_type": "error",
     "traceback": [
      "\u001b[1;31mThe Kernel crashed while executing code in the the current cell or a previous cell. Please review the code in the cell(s) to identify a possible cause of the failure. Click <a href='https://aka.ms/vscodeJupyterKernelCrash'>here</a> for more info. View Jupyter <a href='command:jupyter.viewOutput'>log</a> for further details."
     ]
    }
   ],
   "source": [
    "import os\n",
    "from time import sleep, time\n",
    "import sys\n",
    "import threading\n",
    "from threading import Thread\n",
    "from _thread import interrupt_main\n",
    "from signal import signal\n",
    "from signal import SIGINT\n",
    "\n",
    "\n",
    "def star(s):\n",
    "    result = \"\"\n",
    "    for i in range(len(s)):\n",
    "        if (i % 3 == 2):\n",
    "            result += \"*\"\n",
    "        result += s[i]\n",
    "    print(result)\n",
    "\n",
    "s = \"The eye is a region of mostly calm weather at the center of a tropical cyclone.\"\n",
    "\n",
    "tm = time()\n",
    "star(s)\n",
    "\n",
    "pid = os.fork()\n",
    "if pid > 0:\n",
    "    #os.execl()\n",
    "    print(\"Process ID:\", os.getpid())\n",
    "    print(\"Child's process ID:\", pid)\n",
    "    print(time() - tm)\n",
    "\n",
    "else:\n",
    "    #os.execl()\n",
    "    print(\"Process ID:\", os.getpid())\n",
    "    print(time() - tm)"
   ]
  },
  {
   "cell_type": "markdown",
   "id": "b8f57867",
   "metadata": {},
   "source": [
    "# Наследование от класса Thread и создание объекта Thread конструктором"
   ]
  },
  {
   "cell_type": "markdown",
   "id": "899e4395",
   "metadata": {},
   "source": [
    "С прерываниями"
   ]
  },
  {
   "cell_type": "code",
   "execution_count": 1,
   "id": "59f59f5b",
   "metadata": {},
   "outputs": [
    {
     "name": "stdout",
     "output_type": "stream",
     "text": [
      "Th*e e*ye *is *a r*egi*on *of *mos*tly* ca*lm *wea*the*r a*t t*he *cen*ter* of* a *tro*pic*al *cyc*lon*e.\n"
     ]
    }
   ],
   "source": [
    "import threading\n",
    "# Subclass the threading.Thread object and overwrite it's run() method with your code\n",
    "class CountingThread(threading.Thread):\n",
    "    def __init__(self, s: str):\n",
    "        # конструктор должен вызывать конструктор супер класса!\n",
    "#        Thread.__init__(self)\n",
    "        self.s = s\n",
    "        super(CountingThread, self).__init__()\n",
    "    def run(self):\n",
    "        result = \"\"\n",
    "        for i in range(len(self.s)):\n",
    "            if (i % 3 == 2):\n",
    "                result += \"*\"\n",
    "            result += self.s[i]\n",
    "        print(result)\n",
    "            \n",
    "# Create object\n",
    "s = \"The eye is a region of mostly calm weather at the center of a tropical cyclone.\"\n",
    "t1 = CountingThread(str(s))\n",
    "# print (type(t1))\n",
    "# When you call thread.start(), the run() method is invoked\n",
    "t1.start()\n",
    "# Wait for thread t1 to exit - you may get funky behavior \n",
    "# if you don't join your threads. Join can only be called \n",
    "# from another thread (i.e. a thread can't join itself)\n",
    "t1.join()"
   ]
  },
  {
   "cell_type": "markdown",
   "id": "76738a0f",
   "metadata": {},
   "source": [
    "Без прерываний"
   ]
  },
  {
   "cell_type": "code",
   "execution_count": null,
   "id": "5ca87016",
   "metadata": {},
   "outputs": [],
   "source": [
    "class CreateThread(threading.Thread):\n",
    "    def __init__(self, string):\n",
    "        super(CreateThread, self).__init__()\n",
    "        self.string = string\n",
    "    def run(self):\n",
    "        string = input().split()\n",
    "        lst = []\n",
    "        for i in string:\n",
    "            lst.append(i.capitalize())\n",
    "        print(' '.join(lst))\n",
    "        star(self.string)\n",
    "        print(os.getpid())\n",
    "\n",
    "\n",
    "t1 = CreateThread(\"\")\n",
    "t1.start()\n",
    "t1.join()"
   ]
  },
  {
   "cell_type": "markdown",
   "id": "5cfded0b",
   "metadata": {},
   "source": [
    "# Cоздание объекта Thread конструктором с параметром target = объект"
   ]
  },
  {
   "cell_type": "markdown",
   "id": "f5c2f97a",
   "metadata": {},
   "source": [
    "Без прерываний"
   ]
  },
  {
   "cell_type": "code",
   "execution_count": 4,
   "id": "9df6f333",
   "metadata": {},
   "outputs": [
    {
     "name": "stdout",
     "output_type": "stream",
     "text": [
      "Th*e e*ye *is *a r*egi*on *of *mos*tly* ca*lm *wea*the*r a*t t*he *cen*ter* of* a *tro*pic*al *cyc*lon*e.\n"
     ]
    }
   ],
   "source": [
    "# target =  star - целевая функция \n",
    "def star(s):\n",
    "    result = \"\"\n",
    "    for i in range(len(s)):\n",
    "        if (i % 3 == 2):\n",
    "            result += \"*\"\n",
    "        result += s[i]\n",
    "    print(result)\n",
    "\n",
    "s = \"The eye is a region of mostly calm weather at the center of a tropical cyclone.\"\n",
    "# Run the thread\n",
    "t1 = threading.Thread(target=star, args=(s,))\n",
    "t1.start()\n",
    "t1.join()"
   ]
  },
  {
   "cell_type": "markdown",
   "id": "0fccd34c",
   "metadata": {},
   "source": [
    "С прерываниямим"
   ]
  },
  {
   "cell_type": "code",
   "execution_count": 5,
   "id": "c6e8f632",
   "metadata": {},
   "outputs": [
    {
     "name": "stdout",
     "output_type": "stream",
     "text": [
      "Main thread waiting...\n",
      "Main thread waiting...\n",
      "Main thread waiting...\n",
      "Main thread waiting...\n",
      "Main thread waiting...\n",
      "Main thread waiting...\n",
      "Th*e e*ye *is *a r*egi*on *of *mos*tly* ca*lm *wea*the*r a*t t*he *cen*ter* of* a *tro*pic*al *cyc*lon*e.\n",
      "Main interrupted! Exiting.\n"
     ]
    }
   ],
   "source": [
    "# 1 программное и аппаратное (от клавиатуры) interrupting the main thread: handle with try-except\n",
    "from time import sleep\n",
    "from threading import Thread\n",
    "from _thread import interrupt_main\n",
    "import sys\n",
    " \n",
    "# task executed in a new thread\n",
    "def task():\n",
    "    # block for a moment\n",
    "    sleep(3)\n",
    "    s = \"The eye is a region of mostly calm weather at the center of a tropical cyclone.\"\n",
    "    result = \"\"\n",
    "    for i in range(len(s)):\n",
    "        if (i % 3 == 2):\n",
    "            result += \"*\"\n",
    "        result += s[i]\n",
    "    print(result)\n",
    "    interrupt_main()\n",
    " \n",
    "# start the new thread\n",
    "thread = Thread(target=task)\n",
    "thread.start()\n",
    "# handle being interrupted\n",
    "try:\n",
    "    # wait around\n",
    "    while True:\n",
    "        print('Main thread waiting...')\n",
    "        sleep(0.5)\n",
    "except KeyboardInterrupt:   # ctrl + C\n",
    "    # terminate main thread\n",
    "    print('Main interrupted! Exiting.')\n",
    "    #sys.exit()\n",
    "    # exit()\n",
    "    #quit()"
   ]
  }
 ],
 "metadata": {
  "kernelspec": {
   "display_name": "Python 3.10.8 64-bit",
   "language": "python",
   "name": "python3"
  },
  "language_info": {
   "codemirror_mode": {
    "name": "ipython",
    "version": 3
   },
   "file_extension": ".py",
   "mimetype": "text/x-python",
   "name": "python",
   "nbconvert_exporter": "python",
   "pygments_lexer": "ipython3",
   "version": "3.10.8"
  },
  "vscode": {
   "interpreter": {
    "hash": "767d51c1340bd893661ea55ea3124f6de3c7a262a8b4abca0554b478b1e2ff90"
   }
  }
 },
 "nbformat": 4,
 "nbformat_minor": 5
}
