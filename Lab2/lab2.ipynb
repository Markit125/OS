{
 "cells": [
  {
   "attachments": {},
   "cell_type": "markdown",
   "metadata": {},
   "source": [
    "#### Командная процедура выдает список всех подкаталогов текущего каталога. Глубина просмотра подкаталогов задается в виде аргумента."
   ]
  },
  {
   "cell_type": "code",
   "execution_count": 1,
   "metadata": {},
   "outputs": [],
   "source": [
    "import os, sys\n",
    "\n",
    "def print_dirs(catalog='.', depth=0):\n",
    "    if depth < 0:\n",
    "        return\n",
    "    \n",
    "    if not os.path.isdir(catalog):\n",
    "        return\n",
    "\n",
    "    dirs = os.listdir(catalog)\n",
    "    \n",
    "    for dir in dirs:\n",
    "        print(f\"{catalog}/{dir}\")\n",
    "    \n",
    "        print_dirs(f\"{catalog}/{dir}\", depth - 1)\n",
    "\n",
    "if __name__ == '__main__':\n",
    "    catalog = '.' if len(sys.argv) < 2 else sys.argv[1]\n",
    "    depth = 0 if len(sys.argv) < 3 else int(sys.argv[2])\n",
    "    print_dirs(catalog, depth)"
   ]
  }
 ],
 "metadata": {
  "kernelspec": {
   "display_name": "Python 3",
   "language": "python",
   "name": "python3"
  },
  "language_info": {
   "codemirror_mode": {
    "name": "ipython",
    "version": 3
   },
   "file_extension": ".py",
   "mimetype": "text/x-python",
   "name": "python",
   "nbconvert_exporter": "python",
   "pygments_lexer": "ipython3",
   "version": "3.10.8"
  },
  "orig_nbformat": 4,
  "vscode": {
   "interpreter": {
    "hash": "767d51c1340bd893661ea55ea3124f6de3c7a262a8b4abca0554b478b1e2ff90"
   }
  }
 },
 "nbformat": 4,
 "nbformat_minor": 2
}
