{
 "cells": [
  {
   "attachments": {},
   "cell_type": "markdown",
   "metadata": {},
   "source": [
    "#### Разработать программу, копирующую произвольное число файлов заданных аргументами из текущего каталога в указываемый каталог."
   ]
  },
  {
   "cell_type": "code",
   "execution_count": null,
   "metadata": {},
   "outputs": [],
   "source": [
    "import sys, os, shutil\n",
    "\n",
    "def copy_files(files):\n",
    "    if len(files) <= 2:\n",
    "        return\n",
    "\n",
    "    destination = files[1]\n",
    "    for file in files[2:]:\n",
    "        shutil.copy(f\"./{file}\", os.path.join(os.getcwd(), destination, file))\n",
    "\n",
    "if __name__ == '__main__':\n",
    "    copy_files(sys.argv)"
   ]
  }
 ],
 "metadata": {
  "kernelspec": {
   "display_name": "Python 3",
   "language": "python",
   "name": "python3"
  },
  "language_info": {
   "name": "python",
   "version": "3.10.8 (main, Nov  1 2022, 14:18:21) [GCC 12.2.0]"
  },
  "orig_nbformat": 4,
  "vscode": {
   "interpreter": {
    "hash": "767d51c1340bd893661ea55ea3124f6de3c7a262a8b4abca0554b478b1e2ff90"
   }
  }
 },
 "nbformat": 4,
 "nbformat_minor": 2
}
