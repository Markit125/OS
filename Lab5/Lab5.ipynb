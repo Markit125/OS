{
 "cells": [
  {
   "cell_type": "markdown",
   "metadata": {},
   "source": [
    "## Лабораторная работа №5"
   ]
  },
  {
   "cell_type": "markdown",
   "metadata": {},
   "source": [
    "### N нитей M процессов, N:M = 3:5\n",
    "Вариант 21\n",
    "1. Реализовать 5  процессов, в каждом по три нити c фильтром и общим процесс-безопасным журналом, l (Log) c уровнями Info, Debug, прерываниями. Работа с журналом осуществляется в фоновом режиме. \n",
    "2. Сообщение в журнале формата \n",
    "     * начало/окончание, номер-нити/процесса  \n",
    "     * главный процесс, окончание    \n",
    "\n",
    "Фильтр, вставляющий символ ‘*’ после каждых 3-х символов входной строки."
   ]
  },
  {
   "cell_type": "code",
   "execution_count": 1,
   "metadata": {},
   "outputs": [
    {
     "name": "stderr",
     "output_type": "stream",
     "text": [
      "Main process started.\n",
      "Main process started.\n",
      "Main process started.\n",
      "Child 1160635 starting.\n",
      "Child 1160635 starting.\n",
      "Child Thread-4 (star) starting\n"
     ]
    },
    {
     "name": "stdout",
     "output_type": "stream",
     "text": [
      " I*n s*tro*ng *tro*pic*al *cyc*lon*es,* th*e e*ye *is *cha*rac*ter*ize*d b*y l*igh*t w*ind*s a*nd *cle*ar *ski*es,* su*rro*und*ed *on *all* si*des* by* a *tow*eri*ng,* sy*mme*tri*c e*yew*all*, w*hil*e i*n w*eak*er *sto*rms*, i*t i*s l*ess* we*ll *def*ine*d a*nd *may* be* co*ver*ed *by *a c*ent*ral* de*nse* ov*erc*ast"
     ]
    },
    {
     "name": "stderr",
     "output_type": "stream",
     "text": [
      "Child Thread-4 (star) starting\n",
      "Main process started.\n"
     ]
    },
    {
     "name": "stdout",
     "output_type": "stream",
     "text": [
      "Th*e e*ye *is *a r*egi*on *of *mos*tly* ca*lm *wea*the*r a*t t*he *cen*ter* of* a *tro*pic*al *cyc*lon*e"
     ]
    },
    {
     "name": "stderr",
     "output_type": "stream",
     "text": [
      "Child 1160635 starting.\n"
     ]
    },
    {
     "name": "stdout",
     "output_type": "stream",
     "text": [
      " W*eak*er *or *dis*org*ani*zed* st*orm*s m*ay *als*o f*eat*ure* an* ey*ewa*ll *tha*t d*oes* no*t c*omp*let*ely* en*cir*cle* th*e e*ye *or *hav*e a*n e*ye *tha*t f*eat*ure*s h*eav*y r*ain"
     ]
    },
    {
     "name": "stderr",
     "output_type": "stream",
     "text": [
      "Child 1160659 starting.\n"
     ]
    },
    {
     "name": "stdout",
     "output_type": "stream",
     "text": [
      "\n"
     ]
    },
    {
     "name": "stderr",
     "output_type": "stream",
     "text": [
      "Child 1160659 starting.\n"
     ]
    },
    {
     "name": "stdout",
     "output_type": "stream",
     "text": [
      "\n",
      "\n",
      " I*n a*ll *sto*rms*, h*owe*ver*, t*he *eye* is* th*e l*oca*tio*n o*f t*he *sto*rm'*s m*ini*mum* ba*rom*etr*ic *pre*ssu*re;* th*is *can* be* as* mu*ch *as *15 *per*cen*t l*owe*r t*han* th*e p*res*sur*e o*uts*ide* th*e s*tor*m I*t i*s r*oug*hly* ci*rcu*lar*, a*nd *is *typ*ica*lly* 30* to* 65* ki*lom*ete*rs *(19* to* 40* mi*les*) i*n d*iam*ete*r\n",
      "\n"
     ]
    },
    {
     "name": "stderr",
     "output_type": "stream",
     "text": [
      "Child Thread-4 (star) starting\n"
     ]
    },
    {
     "name": "stdout",
     "output_type": "stream",
     "text": [
      " T*he *eye* is* su*rro*und*ed *by *the* ey*ewa*ll,* a *rin*g o*f t*owe*rin*g t*hun*der*sto*rms* wh*ere* th*e m*ost* se*ver*e w*eat*her* an*d h*igh*est* wi*nds* of* th*e s*tor*m o*ccu*r W*eak*er *or *dis*org*ani*zed* st*orm*s m*ay *als*o f*eat*ure* an* ey*ewa*ll *tha*t d*oes* no*t c*omp*let*ely* en*cir*cle* th*e e*ye *or *hav*e a*n e*ye *tha*t f*eat*ure*s h*eav*y r*ain"
     ]
    },
    {
     "name": "stderr",
     "output_type": "stream",
     "text": [
      "Child 1160635 starting.\n"
     ]
    },
    {
     "name": "stdout",
     "output_type": "stream",
     "text": [
      " I*t i*s r*oug*hly* ci*rcu*lar*, a*nd *is *typ*ica*lly* 30* to* 65* ki*lom*ete*rs *(19* to* 40* mi*les*) i*n d*iam*ete*r\n"
     ]
    },
    {
     "name": "stderr",
     "output_type": "stream",
     "text": [
      "Child Thread-4 (star) starting\n"
     ]
    },
    {
     "name": "stdout",
     "output_type": "stream",
     "text": [
      " I*n a*ll *sto*rms*, h*owe*ver*, t*he *eye* is* th*e l*oca*tio*n o*f t*he *sto*rm'*s m*ini*mum* ba*rom*etr*ic *pre*ssu*re;* th*is *can* be* as* mu*ch *as *15 *per*cen*t l*owe*r t*han* th*e p*res*sur*e o*uts*ide* th*e s*tor*m\n",
      "\n",
      " T*his* ph*oto*gra*ph,* ta*ken* by* th*e G*erm*an *ast*ron*aut* Al*exa*nde*r G*ers*t f*rom* th*e I*nte*rna*tio*nal* Sp*ace* St*ati*on *in *Sep*tem*ber* 20*18,* sh*ows* th*e w*ell*-de*fin*ed *eye* of* Hu*rri*can*e F*lor*enc*e i*n t*he *Atl*ant*ic *Oce*an"
     ]
    },
    {
     "name": "stderr",
     "output_type": "stream",
     "text": [
      "Child 1160678 starting.\n"
     ]
    },
    {
     "name": "stdout",
     "output_type": "stream",
     "text": [
      " W*eak*er *or *dis*org*ani*zed* st*orm*s m*ay *als*o f*eat*ure* an* ey*ewa*ll *tha*t d*oes* no*t c*omp*let*ely* en*cir*cle* th*e e*ye *or *hav*e a*n e*ye *tha*t f*eat*ure*s h*eav*y r*ain T*he *eye* is* su*rro*und*ed *by *the* ey*ewa*ll,* a *rin*g o*f t*owe*rin*g t*hun*der*sto*rms* wh*ere* th*e m*ost* se*ver*e w*eat*her* an*d h*igh*est* wi*nds* of* th*e s*tor*m o*ccu*r\n",
      "\n"
     ]
    },
    {
     "name": "stderr",
     "output_type": "stream",
     "text": [
      "Child 1160678 starting.\n"
     ]
    },
    {
     "name": "stdout",
     "output_type": "stream",
     "text": [
      " T*he *eye* is* su*rro*und*ed *by *the* ey*ewa*ll,* a *rin*g o*f t*owe*rin*g t*hun*der*sto*rms* wh*ere* th*e m*ost* se*ver*e w*eat*her* an*d h*igh*est* wi*nds* of* th*e s*tor*m o*ccu*r\n",
      " I*n s*tro*ng *tro*pic*al *cyc*lon*es,* th*e e*ye *is *cha*rac*ter*ize*d b*y l*igh*t w*ind*s a*nd *cle*ar *ski*es,* su*rro*und*ed *on *all* si*des* by* a *tow*eri*ng,* sy*mme*tri*c e*yew*all*, w*hil*e i*n w*eak*er *sto*rms*, i*t i*s l*ess* we*ll *def*ine*d a*nd *may* be* co*ver*ed *by *a c*ent*ral* de*nse* ov*erc*ast\n",
      "\n",
      " I*n s*tro*ng *tro*pic*al *cyc*lon*es,* th*e e*ye *is *cha*rac*ter*ize*d b*y l*igh*t w*ind*s a*nd *cle*ar *ski*es,* su*rro*und*ed *on *all* si*des* by* a *tow*eri*ng,* sy*mme*tri*c e*yew*all*, w*hil*e i*n w*eak*er *sto*rms*, i*t i*s l*ess* we*ll *def*ine*d a*nd *may* be* co*ver*ed *by *a c*ent*ral* de*nse* ov*erc*ast"
     ]
    },
    {
     "name": "stderr",
     "output_type": "stream",
     "text": [
      "Child Thread-4 (star) starting\n"
     ]
    },
    {
     "name": "stdout",
     "output_type": "stream",
     "text": [
      "\n"
     ]
    },
    {
     "name": "stderr",
     "output_type": "stream",
     "text": [
      "Child Thread-4 (star) starting\n",
      "Child Thread-4 (star) starting\n",
      "Main process started.\n"
     ]
    },
    {
     "name": "stdout",
     "output_type": "stream",
     "text": [
      "\n"
     ]
    },
    {
     "name": "stderr",
     "output_type": "stream",
     "text": [
      "Child 1160692 starting.\n",
      "Child 1160692 starting.\n",
      "Child Thread-4 (star) starting\n",
      "Child Thread-4 (star) starting\n",
      "Child Thread-4 (star) has been ended\n",
      "Child Thread-4 (star) has been ended\n",
      "Child Thread-5 (star) starting\n",
      "Child Thread-5 (star) starting\n",
      "Child 1160635 starting.\n",
      "Child Thread-4 (star) has been ended\n",
      "Child Thread-4 (star) has been ended\n",
      "Child Thread-5 (star) starting\n"
     ]
    },
    {
     "name": "stderr",
     "output_type": "stream",
     "text": [
      "Child Thread-5 (star) starting\n",
      "Child 1160659 starting.\n",
      "Child 1160659 starting.\n",
      "Child Thread-5 (star) has been ended\n",
      "Child Thread-5 (star) has been ended\n",
      "Child Thread-5 (star) has been ended\n",
      "Child Thread-6 (star) starting\n",
      "Child Thread-6 (star) starting\n",
      "Child Thread-5 (star) has been ended\n",
      "Child Thread-6 (star) starting\n",
      "Child Thread-6 (star) starting\n",
      "Child Thread-6 (star) has been ended\n",
      "Child Thread-6 (star) has been ended\n",
      "Child 1160714 starting.\n",
      "Child 1160692 done.\n",
      "Child 1160692 done.\n",
      "Child 1160714 starting.\n",
      "Child Thread-4 (star) starting\n",
      "Child Thread-4 (star) starting\n",
      "Child Thread-4 (star) starting\n",
      "Child Thread-6 (star) has been ended\n",
      "Child Thread-6 (star) has been ended\n",
      "Child 1160635 starting.\n",
      "Child Thread-4 (star) has been ended\n",
      "Child Thread-4 (star) has been ended\n",
      "Child Thread-5 (star) starting\n",
      "Child Thread-5 (star) starting\n",
      "Child Thread-4 (star) starting\n",
      "Child Thread-4 (star) has been ended\n",
      "Child Thread-4 (star) has been ended\n",
      "Child Thread-4 (star) has been ended\n",
      "Child Thread-5 (star) starting\n",
      "Child Thread-5 (star) starting\n",
      "Child Thread-4 (star) has been ended\n",
      "Child Thread-5 (star) starting\n",
      "Child Thread-5 (star) starting\n",
      "Child Thread-5 (star) has been ended\n",
      "Child Thread-5 (star) has been ended\n",
      "Child Thread-6 (star) starting\n",
      "Child Thread-6 (star) starting\n",
      "Child Thread-5 (star) has been ended\n",
      "Child Thread-5 (star) has been ended\n",
      "Child Thread-4 (star) starting\n",
      "Child Thread-6 (star) starting\n",
      "Child 1160678 starting.\n",
      "Child Thread-6 (star) starting\n",
      "Child Thread-6 (star) has been ended\n",
      "Child Thread-6 (star) has been ended\n",
      "Child Thread-5 (star) has been ended\n",
      "Child Thread-5 (star) has been ended\n",
      "Child Thread-6 (star) starting\n",
      "Child Thread-6 (star) starting\n",
      "Child Thread-6 (star) has been ended\n",
      "Child Thread-6 (star) has been ended\n",
      "Child 1160635 done.\n",
      "Child Thread-6 (star) has been ended\n",
      "Child Thread-6 (star) has been ended\n",
      "Child 1160635 done.\n",
      "Child 1160678 starting.\n",
      "Child 1160714 done.\n",
      "Child 1160714 done.\n",
      "Child 1160659 done.\n",
      "Child 1160659 done.\n",
      "Child Thread-4 (star) starting\n",
      "Child Thread-4 (star) starting\n",
      "Child Thread-4 (star) starting\n",
      "Main process started.\n",
      "Child 1160678 done.\n",
      "Child 1160678 done.\n",
      "Child 1160692 starting.\n",
      "Child 1160692 starting.\n",
      "Child Thread-4 (star) starting\n",
      "Child Thread-4 (star) starting\n",
      "Child Thread-4 (star) has been ended\n",
      "Child Thread-4 (star) has been ended\n",
      "Main process done.\n"
     ]
    }
   ],
   "source": [
    "# example of logging from multiple processes in a process-safe manner\n",
    "from random import random\n",
    "from time import sleep\n",
    "from multiprocessing import current_process\n",
    "from multiprocessing import Process\n",
    "from multiprocessing import Queue\n",
    "from threading import Thread\n",
    "from logging.handlers import QueueHandler\n",
    "import logging\n",
    "\n",
    "\n",
    "def star(s):\n",
    "    result = \"\"\n",
    "    for i in range(len(s)):\n",
    "        if (i % 3 == 2):\n",
    "            result += \"*\"\n",
    "        result += s[i]\n",
    "    # sleep(random())\n",
    "    print(result)\n",
    "\n",
    " \n",
    "# executed in a process that performs logging\n",
    "def logger_process(queue):\n",
    "    # create a logger\n",
    "    logger = logging.getLogger('app')\n",
    "    # configure a stream handler\n",
    "    logger.addHandler(logging.StreamHandler())\n",
    "    # log all messages, debug and up\n",
    "    logger.setLevel(logging.INFO)\n",
    "    # run forever\n",
    "    while True:\n",
    "        # consume a log message, block until one arrives\n",
    "        message = queue.get()\n",
    "        # check for shutdown\n",
    "        if message is None:\n",
    "            break\n",
    "        # log the message\n",
    "        logger.handle(message)\n",
    "\n",
    "\n",
    "# task to be executed in child processes\n",
    "def threads(queue, strings):\n",
    "    # create a logger\n",
    "    logger = logging.getLogger('app')\n",
    "    # add a handler that uses the shared queue\n",
    "    logger.addHandler(QueueHandler(queue))\n",
    "    # log all messages, debug and up\n",
    "    logger.setLevel(logging.INFO)\n",
    "    \n",
    "    process = current_process()\n",
    "\n",
    "    logger.info(f'Child {process.pid} starting.')\n",
    "    \n",
    "\n",
    "    threads = [Thread(target=star, args=((strings[i]),)) for i in range(3)]\n",
    "\n",
    "    for thread in threads:\n",
    "        logger.info(f'Child {thread.name} starting')\n",
    "        thread.start()\n",
    "        logger.info(f'Child {thread.name} has been ended')\n",
    "\n",
    "    for thread in threads:\n",
    "        thread.join()\n",
    "\n",
    "    logger.info(f'Child {process.pid} done.')\n",
    "\n",
    "\n",
    "\n",
    "# protect the entry point\n",
    "if __name__ == '__main__':\n",
    "    # create the shared queue\n",
    "    queue = Queue()\n",
    "    logger = logging.getLogger('app')\n",
    "    # add a handler that uses the shared queue\n",
    "    logger.addHandler(QueueHandler(queue))\n",
    "    # log all messages, debug and up\n",
    "    logger.setLevel(logging.INFO)\n",
    "    # start the logger process\n",
    "    logger_p = Process(target=logger_process, args=(queue,))\n",
    "    logger_p.start()\n",
    "    \n",
    "    logger.info('Main process started.')\n",
    "\n",
    "    article = \"The eye is a region of mostly calm weather at the center of a tropical cyclone. It is roughly circular, and is typically 30 to 65 kilometers (19 to 40 miles) in diameter. The eye is surrounded by the eyewall, a ring of towering thunderstorms where the most severe weather and highest winds of the storm occur. In strong tropical cyclones, the eye is characterized by light winds and clear skies, surrounded on all sides by a towering, symmetric eyewall, while in weaker storms, it is less well defined and may be covered by a central dense overcast. Weaker or disorganized storms may also feature an eyewall that does not completely encircle the eye or have an eye that features heavy rain. In all storms, however, the eye is the location of the storm's minimum barometric pressure; this can be as much as 15 percent lower than the pressure outside the storm. This photograph, taken by the German astronaut Alexander Gerst from the International Space Station in September 2018, shows the well-defined eye of Hurricane Florence in the Atlantic Ocean. The Day of Reconciliation is a public holiday in South Africa held annually on 16 December. The holiday came into effect in 1995 after the end of apartheid, with the intention of fostering reconciliation and national unity for the country.[1] The date was chosen because it was significant to both Afrikaner and black African cultures. The government chose a meaningful date for both ethnic groups because they recognised the need for racial harmony. The celebration of the Day of Reconciliation can take the form of remembering past history, recognising veteran's contributions, marching, and other festivities. The eye is a region of mostly calm weather at the center of a tropical cyclone. The government chose a meaningful date for both ethnic groups because they recognised the need for racial harmony.\"\n",
    "    arguments = tuple(article.split(\".\"))\n",
    "\n",
    "\n",
    "    processes = [Process(target=threads, args=(queue, arguments[i:i + 3],)) for i in range(5)]\n",
    "    \n",
    "    for process in processes:\n",
    "        process.start()\n",
    "        \n",
    "    for process in processes:\n",
    "        process.join()\n",
    "        \n",
    "    logger.info('Main process done.')\n",
    "    \n",
    "    queue.put(None)\n"
   ]
  }
 ],
 "metadata": {
  "kernelspec": {
   "display_name": "Python 3.10.8 64-bit",
   "language": "python",
   "name": "python3"
  },
  "language_info": {
   "codemirror_mode": {
    "name": "ipython",
    "version": 3
   },
   "file_extension": ".py",
   "mimetype": "text/x-python",
   "name": "python",
   "nbconvert_exporter": "python",
   "pygments_lexer": "ipython3",
   "version": "3.10.8"
  },
  "orig_nbformat": 4,
  "vscode": {
   "interpreter": {
    "hash": "767d51c1340bd893661ea55ea3124f6de3c7a262a8b4abca0554b478b1e2ff90"
   }
  }
 },
 "nbformat": 4,
 "nbformat_minor": 2
}
